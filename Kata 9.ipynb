{
 "cells": [
  {
   "cell_type": "markdown",
   "metadata": {},
   "source": [
    "Ejercicio: Uso de funciones en Python\n",
    "\n",
    "Ejercicio 1: Trabajar con argumentos en funciones"
   ]
  },
  {
   "cell_type": "code",
   "execution_count": 10,
   "metadata": {},
   "outputs": [],
   "source": [
    "# Función para leer 3 tanques de combustible y muestre el promedio\n",
    "def tanques(tanque1, tanque2, tanque3):\n",
    "    print('Promedio', (tanque1 + tanque2 +  tanque3) / 3)"
   ]
  },
  {
   "cell_type": "code",
   "execution_count": 11,
   "metadata": {},
   "outputs": [
    {
     "name": "stdout",
     "output_type": "stream",
     "text": [
      "Promedio 7.0\n"
     ]
    }
   ],
   "source": [
    "# Llamamos a la función que genera el reporte print(funcion(tanque1, tanque2, tanque3))\n",
    "tanques(5,6,10)"
   ]
  },
  {
   "cell_type": "code",
   "execution_count": 12,
   "metadata": {},
   "outputs": [],
   "source": [
    "# Función promedio\n",
    "def promedio(*valores):\n",
    "    total = sum(valores)\n",
    "    numValores = len(valores)\n",
    "    return total / numValores"
   ]
  },
  {
   "cell_type": "code",
   "execution_count": 13,
   "metadata": {},
   "outputs": [
    {
     "data": {
      "text/plain": [
       "8.25"
      ]
     },
     "execution_count": 13,
     "metadata": {},
     "output_type": "execute_result"
    }
   ],
   "source": [
    "promedio(6, 9, 3, 15)"
   ]
  },
  {
   "cell_type": "code",
   "execution_count": 14,
   "metadata": {},
   "outputs": [],
   "source": [
    "# Actualiza la función\n",
    "def tanques(tanque1, tanque2, tanque3):\n",
    "    print('Promedio', promedio(tanque1, tanque2, tanque3))"
   ]
  },
  {
   "cell_type": "code",
   "execution_count": 15,
   "metadata": {},
   "outputs": [
    {
     "name": "stdout",
     "output_type": "stream",
     "text": [
      "Promedio 7.0\n"
     ]
    }
   ],
   "source": [
    "tanques(5, 6, 10)"
   ]
  },
  {
   "cell_type": "markdown",
   "metadata": {},
   "source": [
    "Ejercicio 2: Trabajo con argumentos de palabra clave\n",
    "\n",
    "Ejercicio : Trabajar con argumentos de palabras clave en funciones"
   ]
  },
  {
   "cell_type": "code",
   "execution_count": 22,
   "metadata": {},
   "outputs": [],
   "source": [
    "# Función con un informe preciso de la misión. Considera hora de prelanzamiento, tiempo de vuelo, destino, tanque externo y tanque interno\n",
    "def informe(tiempoPrelanzamiento, tiempoVuelo, destino, tanqueExterno, tanqueInterno):\n",
    "    return f'''\n",
    "    Tiempo hasta el destino: {tiempoPrelanzamiento + tiempoVuelo}\n",
    "    Combustible restante: {tanqueExterno + tanqueInterno}\n",
    "    Destino: {destino}'''"
   ]
  },
  {
   "cell_type": "code",
   "execution_count": 23,
   "metadata": {},
   "outputs": [
    {
     "name": "stdout",
     "output_type": "stream",
     "text": [
      "\n",
      "    Tiempo hasta el destino: 62\n",
      "    Combustible restante: 55\n",
      "    Destino: Marte\n"
     ]
    }
   ],
   "source": [
    "print(informe(12, 50, 'Marte', 25, 30))"
   ]
  },
  {
   "cell_type": "code",
   "execution_count": 32,
   "metadata": {},
   "outputs": [],
   "source": [
    "# Escribe tu nueva función de reporte considerando lo anterior\n",
    "def informe(destino, *tiempo, **combustible):\n",
    "    return f'''\n",
    "    Destino: {destino}\n",
    "    Tiempo hasta el destino: {sum(tiempo)}\n",
    "    Combustible restante: {sum(combustible.values())}'''"
   ]
  },
  {
   "cell_type": "code",
   "execution_count": 33,
   "metadata": {},
   "outputs": [
    {
     "name": "stdout",
     "output_type": "stream",
     "text": [
      "\n",
      "    Destino: Marte\n",
      "    Tiempo hasta el destino: 117\n",
      "    Combustible restante: 66\n"
     ]
    }
   ],
   "source": [
    "print(informe('Marte', 25, 30, 12, 50, tanqueExterno = 42, tanqueInterno = 24))"
   ]
  },
  {
   "cell_type": "code",
   "execution_count": 54,
   "metadata": {},
   "outputs": [],
   "source": [
    "# Escribe tu nueva función\n",
    "def informe(destino, *tiempo, **combustible):\n",
    "    reporte =  f'''\n",
    "    Destino: {destino}\n",
    "    Tiempo hasta el destino: {sum(tiempo)}\n",
    "    Combustible restante: {sum(combustible.values())}'''\n",
    "    for tanque, cantidad in combustible.items():\n",
    "        tanques = f'''\n",
    "    {tanque}: {cantidad}'''\n",
    "    return reporte + tanques"
   ]
  },
  {
   "cell_type": "code",
   "execution_count": 105,
   "metadata": {},
   "outputs": [],
   "source": [
    "# Escribe tu nueva función\n",
    "def informe(destino, *tiempo, **combustible):\n",
    "    tanques = ''\n",
    "    reporte =  f'''\n",
    "    Destino: {destino}\n",
    "    Tiempo hasta el destino: {sum(tiempo)}\n",
    "    Combustible restante: {sum(combustible.values())}'''\n",
    "    for tanque, cantidad in combustible.items():\n",
    "        tanques += f'''\n",
    "        {tanque}: {cantidad}'''\n",
    "    return reporte + tanques"
   ]
  },
  {
   "cell_type": "code",
   "execution_count": 106,
   "metadata": {},
   "outputs": [
    {
     "name": "stdout",
     "output_type": "stream",
     "text": [
      "\n",
      "    Destino: Marte\n",
      "    Tiempo hasta el destino: 117\n",
      "    Combustible restante: 66\n",
      "        tanqueExterno: 42\n",
      "        tanqueInterno: 24\n"
     ]
    }
   ],
   "source": [
    "print(informe('Marte', 25, 30, 12, 50, tanqueExterno = 42, tanqueInterno = 24))"
   ]
  },
  {
   "cell_type": "code",
   "execution_count": null,
   "metadata": {},
   "outputs": [],
   "source": []
  }
 ],
 "metadata": {
  "interpreter": {
   "hash": "93e6e51d6b7d499a28b5787f556ac0faab080d51fd0c4b2e15ed3b876f0d99ed"
  },
  "kernelspec": {
   "display_name": "Python 3.10.2 64-bit",
   "language": "python",
   "name": "python3"
  },
  "language_info": {
   "codemirror_mode": {
    "name": "ipython",
    "version": 3
   },
   "file_extension": ".py",
   "mimetype": "text/x-python",
   "name": "python",
   "nbconvert_exporter": "python",
   "pygments_lexer": "ipython3",
   "version": "3.10.2"
  },
  "orig_nbformat": 4
 },
 "nbformat": 4,
 "nbformat_minor": 2
}
